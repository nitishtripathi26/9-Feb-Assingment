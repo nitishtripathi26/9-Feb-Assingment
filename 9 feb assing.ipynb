{
 "cells": [
  {
   "cell_type": "code",
   "execution_count": null,
   "id": "0031aa22-0d69-407a-9bd0-afd5d87bb7dc",
   "metadata": {},
   "outputs": [],
   "source": [
    "9 Febraury Assingment\n",
    "\n",
    "Submitted By -\"Nitish Tripathi\"\n",
    "To,\n",
    "   \"Pwskills\" Impact Batch for Data Science Masters."
   ]
  },
  {
   "cell_type": "markdown",
   "id": "20cc5ff5-d33f-4f53-b2ee-b606832109ab",
   "metadata": {},
   "source": [
    "Question 1-Create a vehicle class with an init method having instance variables as name_of_vehicle, max_speed\n",
    "and average_of_vehicle."
   ]
  },
  {
   "cell_type": "code",
   "execution_count": null,
   "id": "f9965a2a-8957-4553-be0a-7aae7000c286",
   "metadata": {},
   "outputs": [],
   "source": [
    "Ans-An example of a Vehicle class with an '__init__' method that initializes instance variables for name_of_vehicle,\n",
    "max_speed, and average_of_vehicle:\n",
    "    \n",
    "    class Vehicle:\n",
    "    def __init__(self, name_of_vehicle, max_speed, average_of_vehicle):\n",
    "        self.name_of_vehicle = name_of_vehicle\n",
    "        self.max_speed = max_speed\n",
    "        self.average_of_vehicle = average_of_vehicle\n",
    "        \n",
    "In this example, the '__init__' method takes three parameters: name_of_vehicle, max_speed, and average_of_vehicle. \n",
    "These parameters are used to initialize the instance variables of the class. We use the dot notation (self.variable_name)\n",
    "to access the instance variables.\n",
    "We can create an instance of the Vehicle class by passing values for the 'name_of_vehicle', 'max_speed', and\n",
    "'average_of_vehicle' parameters:\n",
    "    \n",
    "    car = Vehicle(\"MARUTI\", 200, 50)\n",
    "    print(car.name_of_vehicle)          Output: MARUTI\n",
    "    print(car.max_speed)                Output: 200\n",
    "    print(car.average_of_vehicle)       Output: 50\n"
   ]
  },
  {
   "cell_type": "markdown",
   "id": "f0c437f2-206a-4fbd-82e9-04d7b15a0534",
   "metadata": {},
   "source": [
    "Question 2-Create a child class car from the vehicle class created in Que 1, which will inherit the vehicle class.\n",
    "Create a method named seating_capacity which takes capacity as an argument and returns the name of\n",
    "the vehicle and its seating capacity."
   ]
  },
  {
   "cell_type": "code",
   "execution_count": null,
   "id": "aa5cd630-ad35-41c0-9291-ea83adc0409e",
   "metadata": {},
   "outputs": [],
   "source": [
    "Ans-Here we have example code in Python that creates a child class Car from the Vehicle class created in Q1, which inherits\n",
    "the Vehicle class and adds a 'seating_capacity()' method that takes a capacity as an argument and returns the name of\n",
    "the vehicle and its seating capacity:\n",
    "    \n",
    "    # Define the parent class Vehicle\n",
    "class Vehicle:\n",
    "    def __init__(self, name_of_vehicle, max_speed, average_of_vehicle):\n",
    "        self.name_of_vehicle = name_of_vehicle\n",
    "        self.max_speed = max_speed\n",
    "        self.average_of_vehicle = average_of_vehicle\n",
    "    \n",
    "# Define the child class Car\n",
    "class Car(Vehicle):\n",
    "    def seating_capacity(self, capacity):\n",
    "        print(f\"{self.name_of_vehicle} has a seating capacity of {capacity} passengers.\")\n",
    "\n",
    "Now the Car class inherits the '__init__' method from the Vehicle class, so we don't need to define it again.\n",
    "We only define the 'seating_capacity' method in the child class. When we create an instance of the Car class, \n",
    "we can call the seating_capacity method to print the vehicle's name and seating capacity, like this:\n",
    "\n",
    "# Create an instance of the Car class\n",
    "my_car = Car(\"Toyota\", 180, 30)\n",
    "\n",
    "# Call the seating_capacity method to print the vehicle's name and seating capacity\n",
    "my_car.seating_capacity(5)\n",
    "\n",
    "O U T P U T: Toyota has a seating capacity of 5 passengers.\n",
    "\n",
    "The method then prints out the vehicle's name and seating capacity."
   ]
  },
  {
   "cell_type": "markdown",
   "id": "9c6bb8a8-e150-4ba9-99ae-5abd0e6bc273",
   "metadata": {},
   "source": [
    "Question 3-What is multiple? Write a pythyon code to demonstrate multiple inheritance?"
   ]
  },
  {
   "cell_type": "code",
   "execution_count": null,
   "id": "a54fa825-d00a-48fc-b6f8-4bfb45090c9d",
   "metadata": {},
   "outputs": [],
   "source": [
    "Ans-Multiple inheritance is a feature of object-oriented programming where a class can inherit from more than one\n",
    "parent class. This allows the child class to have the properties and methods of both parent classes. In Python, \n",
    "multiple inheritance is achieved by listing the parent classes in the child class definition, separated by commas.\n",
    "\n",
    "Example:class Parent1:\n",
    "    def method1(self):\n",
    "        print(\"This is method 1 of parent 1\")\n",
    "\n",
    "class Parent2:\n",
    "    def method2(self):\n",
    "        print(\"This is method 2 of parent 2\")\n",
    "\n",
    "class Child(Parent1, Parent2):\n",
    "    def method3(self):\n",
    "        print(\"This is method 3 of child\")\n",
    "\n",
    "# create an object of Child class\n",
    "c = Child()\n",
    "\n",
    "# call methods inherited from parent classes\n",
    "c.method1()\n",
    "c.method2()\n",
    "\n",
    "# call method of child class\n",
    "c.method3()\n",
    "\n",
    "In this example, we have three classes - 'Parent1', 'Parent2', and Child. 'Parent1' and 'Parent2' are the parent classes\n",
    "of Child. Child inherits from both 'Parent1' and 'Parent2', so it has access to methods defined in both classes.\n",
    "When we create an object of Child class, we can call methods from both parent classes as well as its own methods."
   ]
  },
  {
   "cell_type": "markdown",
   "id": "fc162a13-002d-4cfa-90d6-8b1d85bd1264",
   "metadata": {},
   "source": [
    "Question 4-What are getter and setter in python? Create a class and create a getter and a setter method in this\n",
    "class."
   ]
  },
  {
   "cell_type": "code",
   "execution_count": null,
   "id": "cd23b355-4f55-495a-bb70-b2a9f8ab90e9",
   "metadata": {},
   "outputs": [],
   "source": [
    "Ans-In Python, getters and setters are methods that allow us to access and modify the attributes of a class. \n",
    "These methods are used to provide encapsulation and control over the data stored in the object of the class. \n",
    "Getters are methods that are used to get the value of an attribute while setters are methods that are used to \n",
    "set the value of an attribute.\n",
    "\n",
    "Example:\n",
    "    \n",
    "    class Student:\n",
    "    def __init__(self, name, age):\n",
    "        self.name = name\n",
    "        self.age = age\n",
    "\n",
    "    def get_age(self):\n",
    "        return self.age\n",
    "\n",
    "    def set_age(self, age):\n",
    "        if age > 0 and age < 120:\n",
    "            self.age = age\n",
    "        else:\n",
    "            print(\"Invalid age\")\n",
    "\n",
    "# create an object of Student class\n",
    "s = Student(\"John\", 20)\n",
    "\n",
    "# call the getter method to get the age of the student\n",
    "age = s.get_age()\n",
    "print(\"Age:\", age)\n",
    "\n",
    "# call the setter method to set the age of the student\n",
    "s.set_age(25)\n",
    "\n",
    "# call the getter method again to get the updated age of the student\n",
    "age = s.get_age()\n",
    "print(\"Age:\", age)\n",
    "\n",
    "# try to set an invalid age using the setter method\n",
    "s.set_age(-10)\n",
    "\n",
    "We create an 'object' s of the Student class and call the getter method get_age to get the age of the student.\n",
    "We then call the setter method set_age to set the age of the student to 25. Finally, we call the getter method again\n",
    "to get the updated age of the student. We also try to set an invalid age (-10) using the setter method to demonstrate\n",
    "the error message."
   ]
  },
  {
   "cell_type": "markdown",
   "id": "bbbdabe8-a534-45fe-916a-7759c7d9cd70",
   "metadata": {},
   "source": [
    "Question 5-What is method overriding in python? Write a python code to demonstrate method overriding."
   ]
  },
  {
   "cell_type": "code",
   "execution_count": null,
   "id": "a6e2aad4-8673-4cb5-9a97-dcbe99d659ea",
   "metadata": {},
   "outputs": [],
   "source": [
    "Ans-Method overriding is a feature of object-oriented programming where a subclass can provide its own implementation\n",
    "of a method that is already defined in its parent class. When a method is overridden, the subclass provides a new \n",
    "implementation of the method that replaces the implementation inherited from the parent class.\n",
    "\n",
    "Example:\n",
    "    class Animal:\n",
    "    def make_sound(self):\n",
    "        print(\"The animal makes a sound.\")\n",
    "\n",
    "class Dog(Animal):\n",
    "    def make_sound(self):\n",
    "        print(\"The dog barks.\")\n",
    "\n",
    "# create an object of Dog class\n",
    "d = Dog()\n",
    "\n",
    "# call the overridden method\n",
    "d.make_sound()\n",
    "\n",
    "Here we have two classes - Animal and Dog. Dog is a subclass of Animal, so it inherits the make_sound method from its parent\n",
    "class. However, Dog provides its own implementation of the make_sound method by overriding the method defined in Animal.\n",
    "When we create an object of Dog class and call the make_sound method, the overridden method defined in Dog is called \n",
    "instead of the method defined in Animal. This results in the output \"The dog barks.\" being printed to the console.\n",
    "\n",
    "Method 'overriding' allows subclasses to modify the behavior of inherited methods to suit their own needs, without having\n",
    "to modify the parent class."
   ]
  }
 ],
 "metadata": {
  "kernelspec": {
   "display_name": "Python 3 (ipykernel)",
   "language": "python",
   "name": "python3"
  },
  "language_info": {
   "codemirror_mode": {
    "name": "ipython",
    "version": 3
   },
   "file_extension": ".py",
   "mimetype": "text/x-python",
   "name": "python",
   "nbconvert_exporter": "python",
   "pygments_lexer": "ipython3",
   "version": "3.10.8"
  }
 },
 "nbformat": 4,
 "nbformat_minor": 5
}
